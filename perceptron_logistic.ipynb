{
  "nbformat": 4,
  "nbformat_minor": 0,
  "metadata": {
    "colab": {
      "name": "perceptron-logistic.ipynb",
      "provenance": [],
      "authorship_tag": "ABX9TyMaBZyqDAWgjBcpbAWJK7pT",
      "include_colab_link": true
    },
    "kernelspec": {
      "name": "python3",
      "display_name": "Python 3"
    }
  },
  "cells": [
    {
      "cell_type": "markdown",
      "metadata": {
        "id": "view-in-github",
        "colab_type": "text"
      },
      "source": [
        "<a href=\"https://colab.research.google.com/github/ayushmanantal/ml-practice/blob/master/perceptron_logistic.ipynb\" target=\"_parent\"><img src=\"https://colab.research.google.com/assets/colab-badge.svg\" alt=\"Open In Colab\"/></a>"
      ]
    },
    {
      "cell_type": "code",
      "metadata": {
        "id": "0gVitRgjJ6oL",
        "colab_type": "code",
        "colab": {
          "base_uri": "https://localhost:8080/",
          "height": 615
        },
        "outputId": "13e0fabf-bdec-4d44-b26f-89187755f868"
      },
      "source": [
        "from keras.datasets import mnist\n",
        "from keras.models import Sequential\n",
        "from keras.layers import Dense, Flatten, Dropout\n",
        "from keras.utils import np_utils\n",
        "\n",
        "# log hyperparameters\n",
        "epochs = 10\n",
        "\n",
        "# load data\n",
        "(X_train, y_train), (X_test, y_test) = mnist.load_data()\n",
        "\n",
        "img_width = X_train.shape[1]\n",
        "img_height = X_train.shape[2]\n",
        "\n",
        "# one hot encode outputs\n",
        "y_train = np_utils.to_categorical(y_train)\n",
        "y_test = np_utils.to_categorical(y_test)\n",
        "labels = range(10)\n",
        "\n",
        "num_classes = y_train.shape[1]\n",
        "\n",
        "# create model\n",
        "model=Sequential()\n",
        "model.add(Flatten(input_shape=(img_width,img_height)))\n",
        "model.add(Dense(num_classes, activation='softmax'))\n",
        "model.compile(loss='mse', optimizer='adam',\n",
        "                metrics=['accuracy'])\n",
        "model.summary()\n",
        "\n",
        "# Fit the model\n",
        "model.fit(X_train, y_train, epochs=epochs, validation_data=(X_test, y_test))\n"
      ],
      "execution_count": 3,
      "outputs": [
        {
          "output_type": "stream",
          "text": [
            "Model: \"sequential_2\"\n",
            "_________________________________________________________________\n",
            "Layer (type)                 Output Shape              Param #   \n",
            "=================================================================\n",
            "flatten_2 (Flatten)          (None, 784)               0         \n",
            "_________________________________________________________________\n",
            "dense_2 (Dense)              (None, 10)                7850      \n",
            "=================================================================\n",
            "Total params: 7,850\n",
            "Trainable params: 7,850\n",
            "Non-trainable params: 0\n",
            "_________________________________________________________________\n",
            "Train on 60000 samples, validate on 10000 samples\n",
            "Epoch 1/10\n",
            "60000/60000 [==============================] - 2s 41us/step - loss: 0.1293 - accuracy: 0.3519 - val_loss: 0.1094 - val_accuracy: 0.4524\n",
            "Epoch 2/10\n",
            "60000/60000 [==============================] - 2s 37us/step - loss: 0.1143 - accuracy: 0.4272 - val_loss: 0.1107 - val_accuracy: 0.4457\n",
            "Epoch 3/10\n",
            "60000/60000 [==============================] - 2s 37us/step - loss: 0.1113 - accuracy: 0.4427 - val_loss: 0.1058 - val_accuracy: 0.4702\n",
            "Epoch 4/10\n",
            "60000/60000 [==============================] - 2s 37us/step - loss: 0.1046 - accuracy: 0.4761 - val_loss: 0.0978 - val_accuracy: 0.5102\n",
            "Epoch 5/10\n",
            "60000/60000 [==============================] - 2s 37us/step - loss: 0.0984 - accuracy: 0.5071 - val_loss: 0.0921 - val_accuracy: 0.5387\n",
            "Epoch 6/10\n",
            "60000/60000 [==============================] - 2s 37us/step - loss: 0.0949 - accuracy: 0.5247 - val_loss: 0.0936 - val_accuracy: 0.5311\n",
            "Epoch 7/10\n",
            "60000/60000 [==============================] - 2s 37us/step - loss: 0.0943 - accuracy: 0.5281 - val_loss: 0.0912 - val_accuracy: 0.5436\n",
            "Epoch 8/10\n",
            "60000/60000 [==============================] - 2s 37us/step - loss: 0.0936 - accuracy: 0.5318 - val_loss: 0.0922 - val_accuracy: 0.5387\n",
            "Epoch 9/10\n",
            "60000/60000 [==============================] - 2s 37us/step - loss: 0.0943 - accuracy: 0.5280 - val_loss: 0.0907 - val_accuracy: 0.5464\n",
            "Epoch 10/10\n",
            "60000/60000 [==============================] - 2s 39us/step - loss: 0.0931 - accuracy: 0.5343 - val_loss: 0.0895 - val_accuracy: 0.5521\n"
          ],
          "name": "stdout"
        },
        {
          "output_type": "execute_result",
          "data": {
            "text/plain": [
              "<keras.callbacks.callbacks.History at 0x7fc9659c7f98>"
            ]
          },
          "metadata": {
            "tags": []
          },
          "execution_count": 3
        }
      ]
    },
    {
      "cell_type": "code",
      "metadata": {
        "id": "HEVj3s9pKK5u",
        "colab_type": "code",
        "colab": {}
      },
      "source": [
        ""
      ],
      "execution_count": null,
      "outputs": []
    }
  ]
}