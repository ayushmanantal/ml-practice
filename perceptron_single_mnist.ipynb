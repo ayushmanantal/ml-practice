{
  "nbformat": 4,
  "nbformat_minor": 0,
  "metadata": {
    "colab": {
      "name": "perceptron-single_mnist.ipynb",
      "provenance": [],
      "authorship_tag": "ABX9TyPDRzjRQ3qw4UWgQtyE7qdc",
      "include_colab_link": true
    },
    "kernelspec": {
      "name": "python3",
      "display_name": "Python 3"
    }
  },
  "cells": [
    {
      "cell_type": "markdown",
      "metadata": {
        "id": "view-in-github",
        "colab_type": "text"
      },
      "source": [
        "<a href=\"https://colab.research.google.com/github/ayushmanantal/ml-practice/blob/master/perceptron_single_mnist.ipynb\" target=\"_parent\"><img src=\"https://colab.research.google.com/assets/colab-badge.svg\" alt=\"Open In Colab\"/></a>"
      ]
    },
    {
      "cell_type": "code",
      "metadata": {
        "id": "nil6_PZ7vzRt",
        "colab_type": "code",
        "colab": {
          "base_uri": "https://localhost:8080/",
          "height": 462
        },
        "outputId": "3fd291fe-a098-4bba-ce02-908a8dc2822d"
      },
      "source": [
        "from keras.datasets import mnist\n",
        "from keras.models import Sequential\n",
        "from keras.layers import Dense, Flatten, Dropout\n",
        "from keras.utils import np_utils\n",
        "\n",
        "epochs = 10\n",
        "\n",
        "# load data\n",
        "(X_train, y_train), (X_test, y_test) = mnist.load_data()\n",
        "\n",
        "is_five_train = y_train == 5\n",
        "is_five_test = y_test == 5\n",
        "labels = [\"Not Five\", \"Is Five\"]\n",
        "\n",
        "img_width = X_train.shape[1]\n",
        "img_height = X_train.shape[2]\n",
        "\n",
        "# create model\n",
        "model=Sequential()\n",
        "model.add(Flatten(input_shape=(img_width,img_height)))\n",
        "model.add(Dense(1, activation='sigmoid'))\n",
        "model.compile(loss='mse', optimizer='adam',\n",
        "                metrics=['accuracy'])\n",
        "\n",
        "# Fit the model\n",
        "model.fit(X_train, is_five_train, epochs=epochs, validation_data=(X_test, is_five_test))\n",
        "\n",
        "\n"
      ],
      "execution_count": 1,
      "outputs": [
        {
          "output_type": "stream",
          "text": [
            "Using TensorFlow backend.\n"
          ],
          "name": "stderr"
        },
        {
          "output_type": "stream",
          "text": [
            "Downloading data from https://s3.amazonaws.com/img-datasets/mnist.npz\n",
            "11493376/11490434 [==============================] - 1s 0us/step\n",
            "Train on 60000 samples, validate on 10000 samples\n",
            "Epoch 1/10\n",
            "60000/60000 [==============================] - 2s 41us/step - loss: 0.0935 - accuracy: 0.9064 - val_loss: 0.0892 - val_accuracy: 0.9108\n",
            "Epoch 2/10\n",
            "60000/60000 [==============================] - 2s 34us/step - loss: 0.0903 - accuracy: 0.9097 - val_loss: 0.0892 - val_accuracy: 0.9108\n",
            "Epoch 3/10\n",
            "60000/60000 [==============================] - 2s 32us/step - loss: 0.0903 - accuracy: 0.9097 - val_loss: 0.0892 - val_accuracy: 0.9108\n",
            "Epoch 4/10\n",
            "60000/60000 [==============================] - 2s 33us/step - loss: 0.0903 - accuracy: 0.9097 - val_loss: 0.0892 - val_accuracy: 0.9108\n",
            "Epoch 5/10\n",
            "60000/60000 [==============================] - 2s 34us/step - loss: 0.0903 - accuracy: 0.9097 - val_loss: 0.0892 - val_accuracy: 0.9108\n",
            "Epoch 6/10\n",
            "60000/60000 [==============================] - 2s 34us/step - loss: 0.0903 - accuracy: 0.9097 - val_loss: 0.0892 - val_accuracy: 0.9108\n",
            "Epoch 7/10\n",
            "60000/60000 [==============================] - 2s 34us/step - loss: 0.0903 - accuracy: 0.9097 - val_loss: 0.0892 - val_accuracy: 0.9108\n",
            "Epoch 8/10\n",
            "60000/60000 [==============================] - 2s 35us/step - loss: 0.0903 - accuracy: 0.9097 - val_loss: 0.0892 - val_accuracy: 0.9108\n",
            "Epoch 9/10\n",
            "60000/60000 [==============================] - 2s 34us/step - loss: 0.0903 - accuracy: 0.9097 - val_loss: 0.0892 - val_accuracy: 0.9108\n",
            "Epoch 10/10\n",
            "60000/60000 [==============================] - 2s 34us/step - loss: 0.0903 - accuracy: 0.9097 - val_loss: 0.0892 - val_accuracy: 0.9108\n"
          ],
          "name": "stdout"
        },
        {
          "output_type": "execute_result",
          "data": {
            "text/plain": [
              "<keras.callbacks.callbacks.History at 0x7ff8983e7f98>"
            ]
          },
          "metadata": {
            "tags": []
          },
          "execution_count": 1
        }
      ]
    },
    {
      "cell_type": "code",
      "metadata": {
        "id": "fA-1czLIv0YB",
        "colab_type": "code",
        "colab": {}
      },
      "source": [
        ""
      ],
      "execution_count": null,
      "outputs": []
    }
  ]
}