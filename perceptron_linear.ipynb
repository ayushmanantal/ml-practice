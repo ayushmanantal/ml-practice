{
  "nbformat": 4,
  "nbformat_minor": 0,
  "metadata": {
    "colab": {
      "name": "perceptron-linear.ipynb",
      "provenance": [],
      "authorship_tag": "ABX9TyPSe+uXSIUVNSgnrCE+GURz",
      "include_colab_link": true
    },
    "kernelspec": {
      "name": "python3",
      "display_name": "Python 3"
    }
  },
  "cells": [
    {
      "cell_type": "markdown",
      "metadata": {
        "id": "view-in-github",
        "colab_type": "text"
      },
      "source": [
        "<a href=\"https://colab.research.google.com/github/ayushmanantal/ml-practice/blob/master/perceptron_linear.ipynb\" target=\"_parent\"><img src=\"https://colab.research.google.com/assets/colab-badge.svg\" alt=\"Open In Colab\"/></a>"
      ]
    },
    {
      "cell_type": "code",
      "metadata": {
        "id": "RjuTNKvNAAjN",
        "colab_type": "code",
        "colab": {
          "base_uri": "https://localhost:8080/",
          "height": 411
        },
        "outputId": "c8f30d9f-1ef6-4bee-fe32-3d5db7fe7454"
      },
      "source": [
        "from keras.datasets import mnist\n",
        "from keras.models import Sequential\n",
        "from keras.layers import Dense, Flatten, Dropout\n",
        "from keras.utils import np_utils\n",
        "\n",
        "\n",
        "# load data\n",
        "(X_train, y_train), (X_test, y_test) = mnist.load_data()\n",
        "\n",
        "X_train = X_train.astype(\"float\")\n",
        "X_train /= 255\n",
        "X_test = X_test.astype(\"float\")\n",
        "X_test /= 255\n",
        "\n",
        "\n",
        "img_width = X_train.shape[1]\n",
        "img_height = X_train.shape[2]\n",
        "\n",
        "# one hot encode outputs\n",
        "y_train = np_utils.to_categorical(y_train)\n",
        "y_test = np_utils.to_categorical(y_test)\n",
        "labels = range(10)\n",
        "\n",
        "num_classes = y_train.shape[1]\n",
        "\n",
        "# create model\n",
        "model=Sequential()\n",
        "model.add(Flatten(input_shape=(img_width,img_height)))\n",
        "model.add(Dense(num_classes, activation=\"softmax\"))\n",
        "model.compile(loss='categorical_crossentropy', optimizer='adam',\n",
        "                metrics=['accuracy'])\n",
        "\n",
        "# Fit the model\n",
        "model.fit(X_train, y_train, epochs=10, validation_data=(X_test, y_test))\n",
        "\n",
        "\n"
      ],
      "execution_count": 10,
      "outputs": [
        {
          "output_type": "stream",
          "text": [
            "Train on 60000 samples, validate on 10000 samples\n",
            "Epoch 1/10\n",
            "60000/60000 [==============================] - 3s 42us/step - loss: 0.4673 - accuracy: 0.8799 - val_loss: 0.3042 - val_accuracy: 0.9153\n",
            "Epoch 2/10\n",
            "60000/60000 [==============================] - 2s 41us/step - loss: 0.3037 - accuracy: 0.9149 - val_loss: 0.2829 - val_accuracy: 0.9213\n",
            "Epoch 3/10\n",
            "60000/60000 [==============================] - 2s 42us/step - loss: 0.2832 - accuracy: 0.9216 - val_loss: 0.2813 - val_accuracy: 0.9209\n",
            "Epoch 4/10\n",
            "60000/60000 [==============================] - 3s 42us/step - loss: 0.2728 - accuracy: 0.9241 - val_loss: 0.2737 - val_accuracy: 0.9235\n",
            "Epoch 5/10\n",
            "60000/60000 [==============================] - 2s 42us/step - loss: 0.2666 - accuracy: 0.9254 - val_loss: 0.2657 - val_accuracy: 0.9257\n",
            "Epoch 6/10\n",
            "60000/60000 [==============================] - 2s 41us/step - loss: 0.2619 - accuracy: 0.9272 - val_loss: 0.2648 - val_accuracy: 0.9266\n",
            "Epoch 7/10\n",
            "60000/60000 [==============================] - 2s 41us/step - loss: 0.2582 - accuracy: 0.9286 - val_loss: 0.2639 - val_accuracy: 0.9265\n",
            "Epoch 8/10\n",
            "60000/60000 [==============================] - 3s 42us/step - loss: 0.2559 - accuracy: 0.9289 - val_loss: 0.2622 - val_accuracy: 0.9271\n",
            "Epoch 9/10\n",
            "60000/60000 [==============================] - 2s 41us/step - loss: 0.2534 - accuracy: 0.9298 - val_loss: 0.2639 - val_accuracy: 0.9281\n",
            "Epoch 10/10\n",
            "60000/60000 [==============================] - 3s 42us/step - loss: 0.2508 - accuracy: 0.9305 - val_loss: 0.2641 - val_accuracy: 0.9262\n"
          ],
          "name": "stdout"
        },
        {
          "output_type": "execute_result",
          "data": {
            "text/plain": [
              "<keras.callbacks.callbacks.History at 0x7fbe5a6bcf60>"
            ]
          },
          "metadata": {
            "tags": []
          },
          "execution_count": 10
        }
      ]
    },
    {
      "cell_type": "code",
      "metadata": {
        "id": "M_suMghQB0Do",
        "colab_type": "code",
        "colab": {}
      },
      "source": [
        " "
      ],
      "execution_count": null,
      "outputs": []
    }
  ]
}